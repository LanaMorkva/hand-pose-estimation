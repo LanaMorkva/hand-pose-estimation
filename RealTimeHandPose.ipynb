{
 "cells": [
  {
   "cell_type": "code",
   "execution_count": 2,
   "metadata": {},
   "outputs": [],
   "source": [
    "import cv2\n",
    "\n",
    "import torchvision.models.detection as torch_detect\n",
    "import torchvision\n",
    "from torchvision import transforms\n",
    "import torch\n",
    "\n",
    "from utils.unet import UNet"
   ]
  },
  {
   "cell_type": "code",
   "execution_count": 3,
   "metadata": {},
   "outputs": [],
   "source": [
    "DETECTION_PATH = 'detection/m_keypoints.pth'\n",
    "ESTIMATION_PATH = 'model/m_keypoints.pth'\n",
    "DEVICE = torch.device(\"cuda\" if torch.cuda.is_available() else \"cpu\")\n",
    "\n",
    "KEYPOINTS_NUM = 21\n",
    "NUM_CLASSES = 2\n",
    "\n",
    "RESIZED_IMG_SIZE = 128\n",
    "MEANS = [0.3950, 0.4323, 0.2954]\n",
    "STDS = [0.1966, 0.1734, 0.1836]"
   ]
  },
  {
   "cell_type": "code",
   "execution_count": 4,
   "metadata": {},
   "outputs": [
    {
     "name": "stderr",
     "output_type": "stream",
     "text": [
      "C:\\Users\\sveta\\AppData\\Local\\Temp\\ipykernel_16180\\667820321.py:6: FutureWarning: You are using `torch.load` with `weights_only=False` (the current default value), which uses the default pickle module implicitly. It is possible to construct malicious pickle data which will execute arbitrary code during unpickling (See https://github.com/pytorch/pytorch/blob/main/SECURITY.md#untrusted-models for more details). In a future release, the default value for `weights_only` will be flipped to `True`. This limits the functions that could be executed during unpickling. Arbitrary objects will no longer be allowed to be loaded via this mode unless they are explicitly allowlisted by the user via `torch.serialization.add_safe_globals`. We recommend you start setting `weights_only=True` for any use case where you don't have full control of the loaded file. Please open an issue on GitHub for any issues related to this experimental feature.\n",
      "  detection.load_state_dict(torch.load(DETECTION_PATH))\n"
     ]
    }
   ],
   "source": [
    "detection = torch_detect.fasterrcnn_resnet50_fpn()\n",
    "\n",
    "in_features = detection.roi_heads.box_predictor.cls_score.in_features\n",
    "detection.roi_heads.box_predictor = torch_detect.faster_rcnn.FastRCNNPredictor(in_features, NUM_CLASSES)\n",
    "\n",
    "detection.load_state_dict(torch.load(DETECTION_PATH))\n",
    "detection = detection.to(DEVICE)\n",
    "detection.eval()\n",
    "\n",
    "detection_transform = transforms.ToTensor()"
   ]
  },
  {
   "cell_type": "code",
   "execution_count": 5,
   "metadata": {},
   "outputs": [
    {
     "name": "stderr",
     "output_type": "stream",
     "text": [
      "C:\\Users\\sveta\\AppData\\Local\\Temp\\ipykernel_16180\\1485691339.py:2: FutureWarning: You are using `torch.load` with `weights_only=False` (the current default value), which uses the default pickle module implicitly. It is possible to construct malicious pickle data which will execute arbitrary code during unpickling (See https://github.com/pytorch/pytorch/blob/main/SECURITY.md#untrusted-models for more details). In a future release, the default value for `weights_only` will be flipped to `True`. This limits the functions that could be executed during unpickling. Arbitrary objects will no longer be allowed to be loaded via this mode unless they are explicitly allowlisted by the user via `torch.serialization.add_safe_globals`. We recommend you start setting `weights_only=True` for any use case where you don't have full control of the loaded file. Please open an issue on GitHub for any issues related to this experimental feature.\n",
      "  estimation.load_state_dict(torch.load(ESTIMATION_PATH))\n"
     ]
    }
   ],
   "source": [
    "estimation = UNet(KEYPOINTS_NUM)\n",
    "estimation.load_state_dict(torch.load(ESTIMATION_PATH))\n",
    "estimation = estimation.to(DEVICE)\n",
    "estimation.eval()\n",
    "\n",
    "estimation_transform = transforms.Compose([\n",
    "    transforms.Resize((RESIZED_IMG_SIZE, RESIZED_IMG_SIZE)),\n",
    "    transforms.Normalize(mean=MEANS, std=STDS)\n",
    "])"
   ]
  },
  {
   "cell_type": "code",
   "execution_count": 6,
   "metadata": {},
   "outputs": [],
   "source": [
    "connections = [\n",
    "    (0, 1), (1, 2), (2, 3), (3, 4),  # Thumb\n",
    "    (0, 5), (5, 6), (6, 7), (7, 8),  # Index finger\n",
    "    (0, 9), (9, 10), (10, 11), (11, 12),  # Middle finger\n",
    "    (0, 13), (13, 14), (14, 15), (15, 16),  # Ring finger\n",
    "    (0, 17), (17, 18), (18, 19), (19, 20)  # Pinky\n",
    "]"
   ]
  },
  {
   "cell_type": "code",
   "execution_count": 7,
   "metadata": {},
   "outputs": [],
   "source": [
    "import numpy as np\n",
    "from utils.utils import keypoints_from_heatmaps\n",
    "import torchvision.transforms.functional as F\n",
    "\n",
    "cap = cv2.VideoCapture(0)\n",
    "out = cv2.VideoWriter('output.avi', cv2.VideoWriter_fourcc(*'MJPG'), 10, (640,480))\n",
    "if not cap.isOpened():\n",
    "    print(\"Cannot open camera\")\n",
    "    exit()\n",
    "\n",
    "while True:\n",
    "    ret, frame = cap.read()\n",
    "\n",
    "    if not ret:\n",
    "        print(\"Can't receive frame (stream end?). Exiting ...\")\n",
    "        break\n",
    "    \n",
    "    frame_model = cv2.cvtColor(frame, cv2.COLOR_BGR2RGB)\n",
    "    frame_model = detection_transform(frame_model).unsqueeze(0).to(DEVICE)\n",
    "    \n",
    "    with torch.no_grad():\n",
    "        detection_res = detection(frame_model)\n",
    "\n",
    "    boxes, scores = detection_res[0]['boxes'], detection_res[0]['scores']\n",
    "    boxes = boxes[scores > 0.9]\n",
    "\n",
    "    padding = 100\n",
    "\n",
    "    for i, box in enumerate(boxes):\n",
    "        x1, y1, x2, y2 = box.cpu().detach().numpy().astype(int)\n",
    "\n",
    "        crop_x1, crop_y1 = x1 - padding, y1 - padding\n",
    "        width, height = x2 - crop_x1 + padding, y2 - crop_y1 + padding\n",
    "\n",
    "        hand_image = F.crop(frame_model.squeeze(0), crop_y1, crop_x1, height, width)\n",
    "\n",
    "        flip = x1 > (frame_model.shape[3] / 2)\n",
    "        if flip:\n",
    "            hand_image = F.vflip(hand_image)\n",
    "        hand_image = estimation_transform(hand_image.unsqueeze(0)).to(DEVICE)\n",
    "        \n",
    "        with torch.no_grad():\n",
    "            heatmap = estimation(hand_image)\n",
    "        if flip:\n",
    "            heatmap = F.vflip(heatmap)\n",
    "\n",
    "        keypoints = keypoints_from_heatmaps(heatmap[0], RESIZED_IMG_SIZE).cpu().detach().numpy()\n",
    "        \n",
    "        keypoints[:, 0] = (keypoints[:, 0] * width + crop_x1)\n",
    "        keypoints[:, 1] = (keypoints[:, 1] * height + crop_y1)\n",
    "\n",
    "        keypoints = keypoints.astype(int)\n",
    "\n",
    "        cv2.rectangle(frame, (x1,y1), (x2,y2), (0,0,255), 2)\n",
    "        for point in keypoints:\n",
    "            cv2.circle(frame, (point[0], point[1]), radius=2, color=(255, 0, 0), thickness=3)\n",
    "\n",
    "        for connection in connections:\n",
    "            x1, y1 = keypoints[connection[0]]\n",
    "            x2, y2 = keypoints[connection[1]]\n",
    "            \n",
    "            # Draw each line between two connected keypoints\n",
    "            cv2.line(frame, (x1, y1), (x2, y2), color=(255, 0, 0), thickness=1) \n",
    "\n",
    "    out.write(frame)\n",
    "    cv2.imshow('frame', frame)\n",
    "    if cv2.waitKey(1) == ord('q'):\n",
    "        break\n",
    "out.release\n",
    "cap.release()\n",
    "cv2.destroyAllWindows()"
   ]
  }
 ],
 "metadata": {
  "kernelspec": {
   "display_name": "base",
   "language": "python",
   "name": "python3"
  },
  "language_info": {
   "codemirror_mode": {
    "name": "ipython",
    "version": 3
   },
   "file_extension": ".py",
   "mimetype": "text/x-python",
   "name": "python",
   "nbconvert_exporter": "python",
   "pygments_lexer": "ipython3",
   "version": "3.12.3"
  }
 },
 "nbformat": 4,
 "nbformat_minor": 2
}
